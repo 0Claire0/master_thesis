{
 "cells": [
  {
   "cell_type": "code",
   "execution_count": 1,
   "id": "a1c794fc",
   "metadata": {},
   "outputs": [],
   "source": [
    "import os\n",
    "import pandas as pd"
   ]
  },
  {
   "cell_type": "code",
   "execution_count": 2,
   "id": "feb38de3",
   "metadata": {},
   "outputs": [],
   "source": [
    "# Specify the folder containing Parquet files\n",
    "folder_path = 'C:\\\\Users\\\\clair\\\\MasterThesis\\\\Feature_selected_data\\\\'\n",
    "\n",
    "# List all Parquet files in the folder\n",
    "parquet_files = [file for file in os.listdir(folder_path) if file.endswith('.parquet')]\n",
    "\n",
    "# Read each Parquet file into a DataFrame and assign it to a variable\n",
    "for parquet_file in parquet_files:\n",
    "    location_name = parquet_file.split('_')[0]  # Extract location name from file name\n",
    "    file_path = os.path.join(folder_path, parquet_file)\n",
    "    globals()[f\"{location_name}_df\"] = pd.read_parquet(file_path)"
   ]
  },
  {
   "cell_type": "code",
   "execution_count": 3,
   "id": "656a946d",
   "metadata": {
    "scrolled": false
   },
   "outputs": [
    {
     "name": "stdout",
     "output_type": "stream",
     "text": [
      "  Canyons Ski Resort_STATION_NUM Canyons Ski Resort_STATION_ID  \\\n",
      "0                              4                           SNC   \n",
      "1                              4                           SNC   \n",
      "2                              4                           SNC   \n",
      "3                              4                           SNC   \n",
      "4                              4                           SNC   \n",
      "\n",
      "   Canyons Ski Resort_air_temp_set_1  Canyons Ski Resort_wind_speed_set_1  \\\n",
      "0                             8.9825                               0.4675   \n",
      "1                             7.5175                               0.5150   \n",
      "2                             6.3575                               0.3375   \n",
      "3                             5.6200                               0.2925   \n",
      "4                             6.0650                               0.5600   \n",
      "\n",
      "   Canyons Ski Resort_solar_radiation_set_1  \\\n",
      "0                                  0.000000   \n",
      "1                                  0.000000   \n",
      "2                                  0.001694   \n",
      "3                                  0.133014   \n",
      "4                                 15.434694   \n",
      "\n",
      "   Canyons Ski Resort_precip_accum_set_1  \\\n",
      "0                                263.652   \n",
      "1                                263.652   \n",
      "2                                263.652   \n",
      "3                                263.652   \n",
      "4                                263.652   \n",
      "\n",
      "   Canyons Ski Resort_relative_humidity_set_1  \\\n",
      "0                                     73.2050   \n",
      "1                                     78.3000   \n",
      "2                                     80.6025   \n",
      "3                                     82.1825   \n",
      "4                                     80.5075   \n",
      "\n",
      "   Canyons Ski Resort_wind_direction_set_1  \\\n",
      "0                                   266.50   \n",
      "1                                   232.25   \n",
      "2                                   184.50   \n",
      "3                                   244.75   \n",
      "4                                   214.75   \n",
      "\n",
      "   Canyons Ski Resort_wind_gust_set_1  Canyons Ski Resort_soil_temp_set_1  \\\n",
      "0                              1.6000                           17.132184   \n",
      "1                              1.0975                           17.061582   \n",
      "2                              0.8750                           16.976551   \n",
      "3                              0.8950                           16.877703   \n",
      "4                              0.8400                           16.768013   \n",
      "\n",
      "   YEAR  MONTH  DAY  HOUR  \n",
      "0  2019      6    1     8  \n",
      "1  2019      6    1     9  \n",
      "2  2019      6    1    10  \n",
      "3  2019      6    1    11  \n",
      "4  2019      6    1    12  \n",
      "  Walt Disney Parks & Resorts_STATION_NUM  \\\n",
      "0                                    4851   \n",
      "1                                    4851   \n",
      "2                                    4851   \n",
      "3                                    4851   \n",
      "4                                    4851   \n",
      "\n",
      "  Walt Disney Parks & Resorts_STATION_ID  \\\n",
      "0                                   KISM   \n",
      "1                                   KISM   \n",
      "2                                   KISM   \n",
      "3                                   KISM   \n",
      "4                                   KISM   \n",
      "\n",
      "   Walt Disney Parks & Resorts_air_temp_set_1  \\\n",
      "0                                   24.146154   \n",
      "1                                   24.030769   \n",
      "2                                   23.992308   \n",
      "3                                   24.776923   \n",
      "4                                   27.176923   \n",
      "\n",
      "   Walt Disney Parks & Resorts_wind_speed_set_1  \\\n",
      "0                                      2.334615   \n",
      "1                                      2.650769   \n",
      "2                                      1.900000   \n",
      "3                                      2.453077   \n",
      "4                                      3.167692   \n",
      "\n",
      "   Walt Disney Parks & Resorts_precip_accum_set_1  \\\n",
      "0                                       92.210307   \n",
      "1                                       92.210307   \n",
      "2                                       92.210307   \n",
      "3                                       92.210307   \n",
      "4                                       92.210307   \n",
      "\n",
      "   Walt Disney Parks & Resorts_dew_point_temperature_set_1  \\\n",
      "0                                           1.357561         \n",
      "1                                           1.357561         \n",
      "2                                           1.357561         \n",
      "3                                           1.357561         \n",
      "4                                           1.357561         \n",
      "\n",
      "   Walt Disney Parks & Resorts_relative_humidity_set_1  \\\n",
      "0                                          87.954615     \n",
      "1                                          91.773077     \n",
      "2                                          94.116154     \n",
      "3                                          90.150000     \n",
      "4                                          81.341538     \n",
      "\n",
      "   Walt Disney Parks & Resorts_wind_direction_set_1  \\\n",
      "0                                        253.846154   \n",
      "1                                        260.769231   \n",
      "2                                        267.692308   \n",
      "3                                        258.461538   \n",
      "4                                        273.846154   \n",
      "\n",
      "   Walt Disney Parks & Resorts_wind_gust_set_1  \\\n",
      "0                                      5.11849   \n",
      "1                                      5.11849   \n",
      "2                                      5.11849   \n",
      "3                                      5.11849   \n",
      "4                                      5.11849   \n",
      "\n",
      "   Walt Disney Parks & Resorts_altimeter_set_1  \\\n",
      "0                                101359.770769   \n",
      "1                                101380.613846   \n",
      "2                                101422.290000   \n",
      "3                                101445.731538   \n",
      "4                                101466.571538   \n",
      "\n",
      "   Walt Disney Parks & Resorts_visibility_set_1  \\\n",
      "0                                          10.0   \n",
      "1                                          10.0   \n",
      "2                                          10.0   \n",
      "3                                          10.0   \n",
      "4                                          10.0   \n",
      "\n",
      "   Walt Disney Parks & Resorts_ceiling_set_1  YEAR  MONTH  DAY  HOUR  \n",
      "0                                 155.288384  2019      6    1     8  \n",
      "1                                 155.288384  2019      6    1     9  \n",
      "2                                 155.288384  2019      6    1    10  \n",
      "3                                 155.288384  2019      6    1    11  \n",
      "4                                 155.288384  2019      6    1    12  \n",
      "  Miami Beach_STATION_NUM Miami Beach_STATION_ID  Miami Beach_air_temp_set_1  \\\n",
      "0                   34573                  E0888                   26.623333   \n",
      "1                   34573                  E0888                   26.110000   \n",
      "2                   34573                  E0888                   25.605833   \n",
      "3                   34573                  E0888                   25.975000   \n",
      "4                   34573                  E0888                   27.640000   \n",
      "\n",
      "   Miami Beach_wind_speed_set_1  Miami Beach_solar_radiation_set_1  \\\n",
      "0                           0.0                        1446.408333   \n",
      "1                           0.0                        1446.408333   \n",
      "2                           0.0                        1446.408333   \n",
      "3                           0.0                        1446.408333   \n",
      "4                           0.0                        1446.408333   \n",
      "\n",
      "   Miami Beach_relative_humidity_set_1  Miami Beach_wind_direction_set_1  \\\n",
      "0                            82.833333                         74.022326   \n",
      "1                            83.000000                         74.022326   \n",
      "2                            82.750000                         74.022326   \n",
      "3                            82.416667                         74.022326   \n",
      "4                            80.500000                         74.022326   \n",
      "\n",
      "   Miami Beach_wind_gust_set_1  Miami Beach_altimeter_set_1  YEAR  MONTH  DAY  \\\n",
      "0                          0.0                  100838.1350  2019      6    1   \n",
      "1                          0.0                  100846.6000  2019      6    1   \n",
      "2                          0.0                  100888.9350  2019      6    1   \n",
      "3                          0.0                  100922.7975  2019      6    1   \n",
      "4                          0.0                  100965.1300  2019      6    1   \n",
      "\n",
      "   HOUR  \n",
      "0     8  \n",
      "1     9  \n",
      "2    10  \n",
      "3    11  \n",
      "4    12  \n",
      "  Las Vegas_STATION_NUM Las Vegas_STATION_ID  Las Vegas_air_temp_set_1  \\\n",
      "0                   436                 KVGT                 24.607692   \n",
      "1                   436                 KVGT                 23.915385   \n",
      "2                   436                 KVGT                 22.907692   \n",
      "3                   436                 KVGT                 22.369231   \n",
      "4                   436                 KVGT                 21.776923   \n",
      "\n",
      "   Las Vegas_pressure_set_1  Las Vegas_wind_speed_set_1  \\\n",
      "0              25561.404417                    3.364615   \n",
      "1              25561.404417                    4.154615   \n",
      "2              25561.404417                    4.670000   \n",
      "3              25561.404417                    4.749231   \n",
      "4              25561.404417                    5.141538   \n",
      "\n",
      "   Las Vegas_solar_radiation_set_1  Las Vegas_precip_accum_set_1  \\\n",
      "0                       251.439098                     85.984843   \n",
      "1                       251.439098                     85.984843   \n",
      "2                       251.439098                     85.984843   \n",
      "3                       251.439098                     85.984843   \n",
      "4                       251.439098                     85.984843   \n",
      "\n",
      "   Las Vegas_dew_point_temperature_set_1  Las Vegas_relative_humidity_set_1  \\\n",
      "0                              -0.037321                          22.906923   \n",
      "1                              -0.037321                          25.356154   \n",
      "2                              -0.037321                          28.545385   \n",
      "3                              -0.037321                          30.211538   \n",
      "4                              -0.037321                          32.736154   \n",
      "\n",
      "   Las Vegas_wind_direction_set_1  Las Vegas_wind_gust_set_1  \\\n",
      "0                      330.769231                   2.935338   \n",
      "1                      340.769231                   2.935338   \n",
      "2                      350.000000                   2.935338   \n",
      "3                      348.461538                   2.935338   \n",
      "4                      354.615385                   2.935338   \n",
      "\n",
      "   Las Vegas_altimeter_set_1  Las Vegas_soil_temp_set_1  \\\n",
      "0              100859.626923                   8.607106   \n",
      "1              100828.367692                   8.607106   \n",
      "2              100817.949231                   8.607106   \n",
      "3              100817.949231                   8.607106   \n",
      "4              100862.233077                   8.607106   \n",
      "\n",
      "   Las Vegas_visibility_set_1  Las Vegas_ceiling_set_1  YEAR  MONTH  DAY  HOUR  \n",
      "0                        10.0               380.801579  2019      6    1     8  \n",
      "1                        10.0               380.801579  2019      6    1     9  \n",
      "2                        10.0               380.801579  2019      6    1    10  \n",
      "3                        10.0               380.801579  2019      6    1    11  \n",
      "4                        10.0               380.801579  2019      6    1    12  \n",
      "(102255, 14)\n",
      "(247374, 16)\n",
      "(27490, 13)\n",
      "(298682, 19)\n"
     ]
    }
   ],
   "source": [
    "# Print the first few rows of each DataFrame\n",
    "print(canyons_df.head())\n",
    "print(disney_df.head())\n",
    "print(miami_df.head())\n",
    "print(vegas_df.head())\n",
    "\n",
    "# Check the shape of each DataFrame\n",
    "print(canyons_df.shape)\n",
    "print(disney_df.shape)\n",
    "print(miami_df.shape)\n",
    "print(vegas_df.shape)"
   ]
  },
  {
   "cell_type": "code",
   "execution_count": 1,
   "id": "ccde870e",
   "metadata": {},
   "outputs": [],
   "source": [
    "from sklearn.svm import SVR\n",
    "from sklearn.model_selection import train_test_split\n",
    "from sklearn.metrics import mean_squared_error, r2_score\n",
    "from sklearn.preprocessing import StandardScaler\n",
    "from sklearn.multioutput import MultiOutputRegressor\n",
    "import matplotlib.pyplot as plt"
   ]
  },
  {
   "cell_type": "markdown",
   "id": "86e084bb",
   "metadata": {},
   "source": [
    "# Canyons Ski Resort"
   ]
  },
  {
   "cell_type": "code",
   "execution_count": 5,
   "id": "5578bc9d",
   "metadata": {},
   "outputs": [
    {
     "name": "stdout",
     "output_type": "stream",
     "text": [
      "Minimum Temperature: -3.02575\n",
      "Maximum Temperature: 31.167\n",
      "Mean Temperature: 10.625726494525452\n",
      "Standard Deviation: 5.829365944623243\n"
     ]
    },
    {
     "data": {
      "image/png": "[encoded data removed]",
      "text/plain": [
       "<Figure size 432x288 with 1 Axes>"
      ]
     },
     "metadata": {
      "needs_background": "light"
     },
     "output_type": "display_data"
    }
   ],
   "source": [
    "import pandas as pd\n",
    "import matplotlib.pyplot as plt\n",
    "\n",
    "\n",
    "# Basic Statistics\n",
    "min_temp = canyons_df['Canyons Ski Resort_air_temp_set_1'].min()\n",
    "max_temp = canyons_df['Canyons Ski Resort_air_temp_set_1'].max()\n",
    "mean_temp = canyons_df['Canyons Ski Resort_air_temp_set_1'].mean()\n",
    "std_temp = canyons_df['Canyons Ski Resort_air_temp_set_1'].std()\n",
    "\n",
    "print(f\"Minimum Temperature: {min_temp}\")\n",
    "print(f\"Maximum Temperature: {max_temp}\")\n",
    "print(f\"Mean Temperature: {mean_temp}\")\n",
    "print(f\"Standard Deviation: {std_temp}\")\n",
    "\n",
    "# Plotting the distribution\n",
    "plt.hist(canyons_df['Canyons Ski Resort_air_temp_set_1'], bins=30, edgecolor='black')\n",
    "plt.title('Distribution of Air Temperature at Canyons Ski Resort')\n",
    "plt.xlabel('Temperature')\n",
    "plt.ylabel('Frequency')\n",
    "plt.show()\n"
   ]
  },
  {
   "cell_type": "code",
   "execution_count": 6,
   "id": "05f70544",
   "metadata": {},
   "outputs": [
    {
     "name": "stdout",
     "output_type": "stream",
     "text": [
      "Minimum Precip accum: 263.652\n",
      "Maximum Precip accum: 280.924\n",
      "Mean Precip accum: 271.5138334360179\n",
      "Standard Deviation: 5.456702582055404\n"
     ]
    },
    {
     "data": {
      "image/png": "[encoded data removed]",
      "text/plain": [
       "<Figure size 432x288 with 1 Axes>"
      ]
     },
     "metadata": {
      "needs_background": "light"
     },
     "output_type": "display_data"
    }
   ],
   "source": [
    "# Basic Statistics\n",
    "min_precip = canyons_df['Canyons Ski Resort_precip_accum_set_1'].min()\n",
    "max_precip = canyons_df['Canyons Ski Resort_precip_accum_set_1'].max()\n",
    "mean_precip = canyons_df['Canyons Ski Resort_precip_accum_set_1'].mean()\n",
    "std_precip = canyons_df['Canyons Ski Resort_precip_accum_set_1'].std()\n",
    "\n",
    "print(f\"Minimum Precip accum: {min_precip}\")\n",
    "print(f\"Maximum Precip accum: {max_precip}\")\n",
    "print(f\"Mean Precip accum: {mean_precip}\")\n",
    "print(f\"Standard Deviation: {std_precip}\")\n",
    "\n",
    "# Plotting the distribution\n",
    "plt.hist(canyons_df['Canyons Ski Resort_precip_accum_set_1'], bins=30, edgecolor='black')\n",
    "plt.title('Distribution of Precip accum at Canyons Ski Resort')\n",
    "plt.xlabel('Temperature')\n",
    "plt.ylabel('Frequency')\n",
    "plt.show()\n"
   ]
  },
  {
   "cell_type": "code",
   "execution_count": 6,
   "id": "e5f5a044",
   "metadata": {
    "scrolled": true
   },
   "outputs": [
    {
     "name": "stdout",
     "output_type": "stream",
     "text": [
      "Target Variable: Canyons Ski Resort_air_temp_set_1\n",
      "Mean Squared Error: 8.058221212085996\n",
      "R-squared: 0.7629631535446886\n",
      "--------------------------------------------------\n",
      "Target Variable: Canyons Ski Resort_wind_speed_set_1\n",
      "Mean Squared Error: 0.06345531930742769\n",
      "R-squared: 0.9518930610206101\n",
      "--------------------------------------------------\n",
      "Target Variable: Canyons Ski Resort_solar_radiation_set_1\n",
      "Mean Squared Error: 15072.422531452557\n",
      "R-squared: 0.5226259514814753\n",
      "--------------------------------------------------\n",
      "Target Variable: Canyons Ski Resort_precip_accum_set_1\n",
      "Mean Squared Error: 10.88664765115362\n",
      "R-squared: 0.6364944647150059\n",
      "--------------------------------------------------\n"
     ]
    }
   ],
   "source": [
    "# Extract features\n",
    "X = canyons_df.drop(columns=['Canyons Ski Resort_air_temp_set_1', 'Canyons Ski Resort_wind_speed_set_1', 'Canyons Ski Resort_solar_radiation_set_1', 'Canyons Ski Resort_precip_accum_set_1', 'Canyons Ski Resort_STATION_NUM', 'Canyons Ski Resort_STATION_ID', 'YEAR', 'MONTH', 'DAY', 'HOUR'])\n",
    "\n",
    "# Define target variables\n",
    "target_variables = ['Canyons Ski Resort_air_temp_set_1', 'Canyons Ski Resort_wind_speed_set_1', 'Canyons Ski Resort_solar_radiation_set_1', 'Canyons Ski Resort_precip_accum_set_1']\n",
    "\n",
    "# Split the data into training and testing sets\n",
    "X_train, X_test = train_test_split(X, test_size=0.2, random_state=42)\n",
    "\n",
    "# Scale the features\n",
    "scaler = StandardScaler()\n",
    "X_train_scaled = scaler.fit_transform(X_train)\n",
    "X_test_scaled = scaler.transform(X_test)\n",
    "\n",
    "for target_variable in target_variables:\n",
    "    # Extract target variable\n",
    "    y = canyons_df[target_variable]\n",
    "\n",
    "    # Split the target variable into training and testing sets\n",
    "    y_train, y_test = train_test_split(y, test_size=0.2, random_state=42)\n",
    "\n",
    "    # Create and train the SVR model\n",
    "    svr_model = SVR(kernel='rbf')  # rbf to capture non linear patterns\n",
    "    svr_model.fit(X_train_scaled, y_train)\n",
    "\n",
    "    # Make predictions on the test set\n",
    "    y_pred = svr_model.predict(X_test_scaled)\n",
    "\n",
    "    # Evaluate the model\n",
    "    mse = mean_squared_error(y_test, y_pred)\n",
    "    r2 = r2_score(y_test, y_pred)\n",
    "\n",
    "    print(f'Target Variable: {target_variable}')\n",
    "    print(f'Mean Squared Error: {mse}')\n",
    "    print(f'R-squared: {r2}')\n",
    "    print('-' * 50)"
   ]
  },
  {
   "cell_type": "raw",
   "id": "6c46fc8c",
   "metadata": {},
   "source": [
    "Canyons Ski Resort_air_temp_set_1:\n",
    "Mean Squared Error (MSE): 8.058\n",
    "R-squared: 0.763\n",
    "Interpretation: The model has a moderate MSE, indicating a reasonable level of accuracy in predicting air temperature. The R-squared value of 0.763 suggests that approximately 76.3% of the variance in air temperature is explained by the model. This is a good fit.\n",
    "\n",
    "Canyons Ski Resort_wind_speed_set_1:\n",
    "Mean Squared Error (MSE): 0.063\n",
    "R-squared: 0.952\n",
    "Interpretation: The model has a low MSE, indicating high accuracy in predicting wind speed. The R-squared value of 0.952 suggests that approximately 95.2% of the variance in wind speed is explained by the model. This is an excellent fit.\n",
    "\n",
    "Canyons Ski Resort_solar_radiation_set_1:\n",
    "Mean Squared Error (MSE): 15072.423\n",
    "R-squared: 0.523\n",
    "Interpretation: The model has a high MSE, indicating lower accuracy in predicting solar radiation. The R-squared value of 0.523 suggests that approximately 52.3% of the variance in solar radiation is explained by the model. Improvement may be needed for this variable.\n",
    "\n",
    "Canyons Ski Resort_precip_accum_set_1:\n",
    "Mean Squared Error (MSE): 10.887\n",
    "R-squared: 0.636\n",
    "Interpretation: The model has a moderate MSE, indicating a reasonable level of accuracy in predicting precipitation accumulation. The R-squared value of 0.636 suggests that approximately 63.6% of the variance in precipitation accumulation is explained by the model. This is a good fit.\n",
    "\n",
    "In summary, the models for air temperature and wind speed perform very well, while the models for solar radiation and precipitation accumulation may require further refinement to improve their accuracy."
   ]
  },
  {
   "cell_type": "markdown",
   "id": "e60d5f47",
   "metadata": {},
   "source": [
    "# Las Vegas"
   ]
  },
  {
   "cell_type": "code",
   "execution_count": 7,
   "id": "f5655788",
   "metadata": {},
   "outputs": [
    {
     "name": "stdout",
     "output_type": "stream",
     "text": [
      "Minimum Value: 4.2\n",
      "Maximum Value: 44.0\n",
      "Mean Value: 17.5074941497676\n",
      "Standard Deviation: 3.7977174217914063\n"
     ]
    },
    {
     "data": {
      "image/png": "[encoded data removed]",
      "text/plain": [
       "<Figure size 432x288 with 1 Axes>"
      ]
     },
     "metadata": {
      "needs_background": "light"
     },
     "output_type": "display_data"
    }
   ],
   "source": [
    "# Basic Statistics for a column in the Las Vegas DataFrame\n",
    "min_temp_lv = vegas_df['Las Vegas_air_temp_set_1'].min()\n",
    "max_temp_lv = vegas_df['Las Vegas_air_temp_set_1'].max()\n",
    "mean_temp_lv = vegas_df['Las Vegas_air_temp_set_1'].mean()\n",
    "std_temp_lv = vegas_df['Las Vegas_air_temp_set_1'].std()\n",
    "\n",
    "print(f\"Minimum Value: {min_temp_lv}\")\n",
    "print(f\"Maximum Value: {max_temp_lv}\")\n",
    "print(f\"Mean Value: {mean_temp_lv}\")\n",
    "print(f\"Standard Deviation: {std_temp_lv}\")\n",
    "\n",
    "# Plotting the distribution for the Las Vegas column\n",
    "plt.hist(vegas_df['Las Vegas_air_temp_set_1'], bins=30, edgecolor='black')\n",
    "plt.title('Distribution of Your Column in Las Vegas DataFrame')\n",
    "plt.xlabel('Value')\n",
    "plt.ylabel('Frequency')\n",
    "plt.show()"
   ]
  },
  {
   "cell_type": "code",
   "execution_count": 8,
   "id": "1adbe202",
   "metadata": {
    "scrolled": true
   },
   "outputs": [
    {
     "name": "stdout",
     "output_type": "stream",
     "text": [
      "Minimum Precipitation Accumulation: 1.778\n",
      "Maximum Precipitation Accumulation: 304.8\n",
      "Mean Precipitation Accumulation: 48.82709215286598\n",
      "Standard Deviation: 77.48711022786468\n"
     ]
    },
    {
     "data": {
      "image/png": "[encoded data removed]",
      "text/plain": [
       "<Figure size 432x288 with 1 Axes>"
      ]
     },
     "metadata": {
      "needs_background": "light"
     },
     "output_type": "display_data"
    }
   ],
   "source": [
    "# Basic Statistics for the precipitation accumulation column\n",
    "min_precip = vegas_df['Las Vegas_precip_accum_set_1'].min()\n",
    "max_precip = vegas_df['Las Vegas_precip_accum_set_1'].max()\n",
    "mean_precip = vegas_df['Las Vegas_precip_accum_set_1'].mean()\n",
    "std_precip = vegas_df['Las Vegas_precip_accum_set_1'].std()\n",
    "\n",
    "print(f\"Minimum Precipitation Accumulation: {min_precip}\")\n",
    "print(f\"Maximum Precipitation Accumulation: {max_precip}\")\n",
    "print(f\"Mean Precipitation Accumulation: {mean_precip}\")\n",
    "print(f\"Standard Deviation: {std_precip}\")\n",
    "\n",
    "# Plotting the distribution for the precipitation accumulation column\n",
    "plt.hist(vegas_df['Las Vegas_precip_accum_set_1'], bins=30, edgecolor='black')\n",
    "plt.title('Distribution of Precipitation Accumulation in Las Vegas')\n",
    "plt.xlabel('Precipitation Accumulation')\n",
    "plt.ylabel('Frequency')\n",
    "plt.show()"
   ]
  },
  {
   "cell_type": "code",
   "execution_count": 9,
   "id": "64393cd3",
   "metadata": {},
   "outputs": [
    {
     "name": "stdout",
     "output_type": "stream",
     "text": [
      "Minimum Solar Radiation: 179.51\n",
      "Maximum Solar Radiation: 975.0\n",
      "Mean Solar Radiation: 237.04687226645572\n",
      "Standard Deviation: 38.883160361968926\n"
     ]
    },
    {
     "data": {
      "image/png": "[encoded data removed]",
      "text/plain": [
       "<Figure size 432x288 with 1 Axes>"
      ]
     },
     "metadata": {
      "needs_background": "light"
     },
     "output_type": "display_data"
    }
   ],
   "source": [
    "import pandas as pd\n",
    "import matplotlib.pyplot as plt\n",
    "\n",
    "# Assuming you have already loaded your Las Vegas DataFrame as 'vegas_df'\n",
    "# vegas_df = pd.read_csv('your_las_vegas_dataset.csv')  # Uncomment this line if you need to load the DataFrame\n",
    "\n",
    "# Basic Statistics for the solar radiation column\n",
    "min_solar_rad = vegas_df['Las Vegas_solar_radiation_set_1'].min()\n",
    "max_solar_rad = vegas_df['Las Vegas_solar_radiation_set_1'].max()\n",
    "mean_solar_rad = vegas_df['Las Vegas_solar_radiation_set_1'].mean()\n",
    "std_solar_rad = vegas_df['Las Vegas_solar_radiation_set_1'].std()\n",
    "\n",
    "print(f\"Minimum Solar Radiation: {min_solar_rad}\")\n",
    "print(f\"Maximum Solar Radiation: {max_solar_rad}\")\n",
    "print(f\"Mean Solar Radiation: {mean_solar_rad}\")\n",
    "print(f\"Standard Deviation: {std_solar_rad}\")\n",
    "\n",
    "# Plotting the distribution for the solar radiation column\n",
    "plt.hist(vegas_df['Las Vegas_solar_radiation_set_1'], bins=30, edgecolor='black')\n",
    "plt.title('Distribution of Solar Radiation in Las Vegas')\n",
    "plt.xlabel('Solar Radiation')\n",
    "plt.ylabel('Frequency')\n",
    "plt.show()\n"
   ]
  },
  {
   "cell_type": "code",
   "execution_count": 6,
   "id": "8b28800e",
   "metadata": {},
   "outputs": [
    {
     "name": "stdout",
     "output_type": "stream",
     "text": [
      "Target Variable: Las Vegas_air_temp_set_1\n",
      "Mean Squared Error: 5.182307839751587\n",
      "R-squared: 0.6412056160617129\n",
      "--------------------------------------------------\n",
      "Target Variable: Las Vegas_wind_speed_set_1\n",
      "Mean Squared Error: 0.35850465519117103\n",
      "R-squared: 0.6074937738054635\n",
      "--------------------------------------------------\n",
      "Target Variable: Las Vegas_solar_radiation_set_1\n",
      "Mean Squared Error: 430.9172363320667\n",
      "R-squared: 0.725197535972637\n",
      "--------------------------------------------------\n",
      "Target Variable: Las Vegas_precip_accum_set_1\n",
      "Mean Squared Error: 5679.479721699236\n",
      "R-squared: 0.058636157292787705\n",
      "--------------------------------------------------\n"
     ]
    }
   ],
   "source": [
    "# Extract features\n",
    "X_vegas = vegas_df.drop(columns=['Las Vegas_air_temp_set_1', 'Las Vegas_wind_speed_set_1', 'Las Vegas_solar_radiation_set_1', 'Las Vegas_precip_accum_set_1', 'Las Vegas_STATION_NUM', 'Las Vegas_STATION_ID', 'YEAR', 'MONTH', 'DAY', 'HOUR'])\n",
    "\n",
    "# Define target variables\n",
    "target_variables_vegas = ['Las Vegas_air_temp_set_1', 'Las Vegas_wind_speed_set_1', 'Las Vegas_solar_radiation_set_1', 'Las Vegas_precip_accum_set_1']\n",
    "\n",
    "# Split the data into training and testing sets\n",
    "X_train_vegas, X_test_vegas = train_test_split(X_vegas, test_size=0.2, random_state=42)\n",
    "\n",
    "# Scale the features\n",
    "scaler_vegas = StandardScaler()\n",
    "X_train_scaled_vegas = scaler_vegas.fit_transform(X_train_vegas)\n",
    "X_test_scaled_vegas = scaler_vegas.transform(X_test_vegas)\n",
    "\n",
    "for target_variable_vegas in target_variables_vegas:\n",
    "    # Extract target variable\n",
    "    y_vegas = vegas_df[target_variable_vegas]\n",
    "\n",
    "    # Split the target variable into training and testing sets\n",
    "    y_train_vegas, y_test_vegas = train_test_split(y_vegas, test_size=0.2, random_state=42)\n",
    "\n",
    "    # Create and train the SVR model\n",
    "    svr_model_vegas = SVR(kernel='rbf')  # rbf to capture non-linear patterns\n",
    "    svr_model_vegas.fit(X_train_scaled_vegas, y_train_vegas)\n",
    "\n",
    "    # Make predictions on the test set\n",
    "    y_pred_vegas = svr_model_vegas.predict(X_test_scaled_vegas)\n",
    "\n",
    "    # Evaluate the model\n",
    "    mse_vegas = mean_squared_error(y_test_vegas, y_pred_vegas)\n",
    "    r2_vegas = r2_score(y_test_vegas, y_pred_vegas)\n",
    "\n",
    "    print(f'Target Variable: {target_variable_vegas}')\n",
    "    print(f'Mean Squared Error: {mse_vegas}')\n",
    "    print(f'R-squared: {r2_vegas}')\n",
    "    print('-' * 50)\n"
   ]
  },
  {
   "cell_type": "raw",
   "id": "9375e273",
   "metadata": {},
   "source": [
    "Las Vegas_air_temp_set_1:\n",
    "Mean Squared Error (MSE): 5.1823\n",
    "R-squared: 0.6412\n",
    "Interpretation:\n",
    "The Mean Squared Error is a measure of the average squared difference between the predicted and actual values. In this case, the MSE of 5.1823 suggests that, on average, the model's predictions for air temperature have a squared difference of approximately 5.1823 from the actual values.\n",
    "The R-squared value of 0.6412 indicates that the model explains about 64.12% of the variance in the air temperature. A higher R-squared value is generally desirable, suggesting a better fit of the model to the data.\n",
    "\n",
    "Las Vegas_wind_speed_set_1:\n",
    "Mean Squared Error (MSE): 0.3585\n",
    "R-squared: 0.6075\n",
    "Interpretation:\n",
    "The MSE of 0.3585 for wind speed indicates that, on average, the model's predictions have a squared difference of approximately 0.3585 from the actual wind speed values.\n",
    "The R-squared value of 0.6075 suggests that the model explains about 60.75% of the variance in wind speed.\n",
    "\n",
    "Las Vegas_solar_radiation_set_1:\n",
    "Mean Squared Error (MSE): 430.9172\n",
    "R-squared: 0.7252\n",
    "Interpretation:\n",
    "The MSE of 430.9172 for solar radiation implies that the model's predictions for solar radiation have a squared difference of approximately 430.9172 from the actual values, on average.\n",
    "The R-squared value of 0.7252 indicates that the model explains about 72.52% of the variance in solar radiation.\n",
    "\n",
    "Las Vegas_precip_accum_set_1:\n",
    "Mean Squared Error (MSE): 5679.4797\n",
    "R-squared: 0.0586\n",
    "Interpretation:\n",
    "The MSE of 5679.4797 for precipitation accumulation suggests that the model's predictions have a squared difference of approximately 5679.4797 from the actual values, on average.\n",
    "The low R-squared value of 0.0586 indicates that the model explains only a small portion (5.86%) of the variance in precipitation accumulation. This might suggest that the model is not performing well for this target variable.\n",
    "\n",
    "\n",
    "In summary, the R-squared values provide an indication of how well the model fits the data, and the MSE values quantify the average prediction error. It's important to consider the context of the specific application and domain knowledge when interpreting these results."
   ]
  },
  {
   "cell_type": "markdown",
   "id": "1d8290a7",
   "metadata": {},
   "source": [
    "# Miami Beach"
   ]
  },
  {
   "cell_type": "code",
   "execution_count": 11,
   "id": "95a94b1c",
   "metadata": {},
   "outputs": [
    {
     "name": "stdout",
     "output_type": "stream",
     "text": [
      "Minimum Temperature: 19.53708333333334\n",
      "Maximum Temperature: 34.35150000000001\n",
      "Mean Temperature: 28.13254161314717\n",
      "Standard Deviation: 2.887891949784119\n"
     ]
    },
    {
     "data": {
      "image/png": "[encoded data removed]",
      "text/plain": [
       "<Figure size 432x288 with 1 Axes>"
      ]
     },
     "metadata": {
      "needs_background": "light"
     },
     "output_type": "display_data"
    }
   ],
   "source": [
    "# Basic Statistics for air temperature\n",
    "min_temp_mb = miami_df['Miami Beach_air_temp_set_1'].min()\n",
    "max_temp_mb = miami_df['Miami Beach_air_temp_set_1'].max()\n",
    "mean_temp_mb = miami_df['Miami Beach_air_temp_set_1'].mean()\n",
    "std_temp_mb = miami_df['Miami Beach_air_temp_set_1'].std()\n",
    "\n",
    "print(f\"Minimum Temperature: {min_temp_mb}\")\n",
    "print(f\"Maximum Temperature: {max_temp_mb}\")\n",
    "print(f\"Mean Temperature: {mean_temp_mb}\")\n",
    "print(f\"Standard Deviation: {std_temp_mb}\")\n",
    "\n",
    "# Plotting the distribution\n",
    "plt.hist(miami_df['Miami Beach_air_temp_set_1'], bins=30, edgecolor='black')\n",
    "plt.title('Distribution of Air Temperature in Miami Beach')\n",
    "plt.xlabel('Temperature')\n",
    "plt.ylabel('Frequency')\n",
    "plt.show()"
   ]
  },
  {
   "cell_type": "code",
   "execution_count": 13,
   "id": "316a992c",
   "metadata": {},
   "outputs": [
    {
     "name": "stdout",
     "output_type": "stream",
     "text": [
      "Minimum Solar Radiation: 124.91666666666667\n",
      "Maximum Solar Radiation: 1499.0\n",
      "Mean Solar Radiation: 1319.762411230346\n",
      "Standard Deviation: 146.30555282532302\n"
     ]
    },
    {
     "data": {
      "image/png": "[encoded data removed]",
      "text/plain": [
       "<Figure size 432x288 with 1 Axes>"
      ]
     },
     "metadata": {
      "needs_background": "light"
     },
     "output_type": "display_data"
    }
   ],
   "source": [
    "# Basic Statistics for solar radiation\n",
    "min_solar_rad_mb = miami_df['Miami Beach_solar_radiation_set_1'].min()\n",
    "max_solar_rad_mb = miami_df['Miami Beach_solar_radiation_set_1'].max()\n",
    "mean_solar_rad_mb = miami_df['Miami Beach_solar_radiation_set_1'].mean()\n",
    "std_solar_rad_mb = miami_df['Miami Beach_solar_radiation_set_1'].std()\n",
    "\n",
    "print(f\"Minimum Solar Radiation: {min_solar_rad_mb}\")\n",
    "print(f\"Maximum Solar Radiation: {max_solar_rad_mb}\")\n",
    "print(f\"Mean Solar Radiation: {mean_solar_rad_mb}\")\n",
    "print(f\"Standard Deviation: {std_solar_rad_mb}\")\n",
    "\n",
    "# Plotting the distribution\n",
    "plt.hist(miami_df['Miami Beach_solar_radiation_set_1'], bins=30, edgecolor='black')\n",
    "plt.title('Distribution of Solar Radiation in Miami Beach')\n",
    "plt.xlabel('Solar Radiation')\n",
    "plt.ylabel('Frequency')\n",
    "plt.show()"
   ]
  },
  {
   "cell_type": "code",
   "execution_count": 7,
   "id": "859ad91a",
   "metadata": {},
   "outputs": [
    {
     "name": "stdout",
     "output_type": "stream",
     "text": [
      "Target Variable: Miami Beach_air_temp_set_1\n",
      "Mean Squared Error: 1.6928427695409478\n",
      "R-squared: 0.7956280641911949\n",
      "--------------------------------------------------\n",
      "Target Variable: Miami Beach_wind_speed_set_1\n",
      "Mean Squared Error: 0.008502967773956956\n",
      "R-squared: 0.9438196491541936\n",
      "--------------------------------------------------\n",
      "Target Variable: Miami Beach_solar_radiation_set_1\n",
      "Mean Squared Error: 20880.403862140865\n",
      "R-squared: -0.044608826256791856\n",
      "--------------------------------------------------\n"
     ]
    }
   ],
   "source": [
    "# Extract features\n",
    "X_miami = miami_df.drop(columns=['Miami Beach_air_temp_set_1', 'Miami Beach_wind_speed_set_1', 'Miami Beach_solar_radiation_set_1', 'Miami Beach_STATION_NUM', 'Miami Beach_STATION_ID', 'YEAR', 'MONTH', 'DAY', 'HOUR'])\n",
    "\n",
    "# Define target variables\n",
    "target_variables_miami = ['Miami Beach_air_temp_set_1', 'Miami Beach_wind_speed_set_1', 'Miami Beach_solar_radiation_set_1']\n",
    "\n",
    "# Split the data into training and testing sets\n",
    "X_train_miami, X_test_miami = train_test_split(X_miami, test_size=0.2, random_state=42)\n",
    "\n",
    "# Scale the features\n",
    "scaler_miami = StandardScaler()\n",
    "X_train_scaled_miami = scaler_miami.fit_transform(X_train_miami)\n",
    "X_test_scaled_miami = scaler_miami.transform(X_test_miami)\n",
    "\n",
    "for target_variable_miami in target_variables_miami:\n",
    "    # Extract target variable\n",
    "    y_miami = miami_df[target_variable_miami]\n",
    "\n",
    "    # Split the target variable into training and testing sets\n",
    "    y_train_miami, y_test_miami = train_test_split(y_miami, test_size=0.2, random_state=42)\n",
    "\n",
    "    # Create and train the SVR model\n",
    "    svr_model_miami = SVR(kernel='rbf')  # rbf to capture non-linear patterns\n",
    "    svr_model_miami.fit(X_train_scaled_miami, y_train_miami)\n",
    "\n",
    "    # Make predictions on the test set\n",
    "    y_pred_miami = svr_model_miami.predict(X_test_scaled_miami)\n",
    "\n",
    "    # Evaluate the model\n",
    "    mse_miami = mean_squared_error(y_test_miami, y_pred_miami)\n",
    "    r2_miami = r2_score(y_test_miami, y_pred_miami)\n",
    "\n",
    "    print(f'Target Variable: {target_variable_miami}')\n",
    "    print(f'Mean Squared Error: {mse_miami}')\n",
    "    print(f'R-squared: {r2_miami}')\n",
    "    print('-' * 50)\n"
   ]
  },
  {
   "cell_type": "raw",
   "id": "fe4a0b27",
   "metadata": {},
   "source": [
    "Miami Beach_air_temp_set_1:\n",
    "Mean Squared Error (MSE): 1.6928\n",
    "R-squared: 0.7956\n",
    "Interpretation:\n",
    "The MSE of 1.6928 for air temperature suggests that, on average, the model's predictions have a squared difference of approximately 1.6928 from the actual air temperature values.\n",
    "The R-squared value of 0.7956 indicates that the model explains about 79.56% of the variance in air temperature, suggesting a relatively good fit of the model to the data.\n",
    "\n",
    "Miami Beach_wind_speed_set_1:\n",
    "Mean Squared Error (MSE): 0.0085\n",
    "R-squared: 0.9438\n",
    "Interpretation:\n",
    "The MSE of 0.0085 for wind speed implies that, on average, the model's predictions have a squared difference of approximately 0.0085 from the actual wind speed values.\n",
    "The high R-squared value of 0.9438 indicates that the model explains about 94.38% of the variance in wind speed, suggesting a very good fit of the model to the data.\n",
    "\n",
    "Miami Beach_solar_radiation_set_1:\n",
    "Mean Squared Error (MSE): 20880.4039\n",
    "R-squared: -0.0446\n",
    "Interpretation:\n",
    "The MSE of 20880.4039 for solar radiation implies that the model's predictions for solar radiation have a squared difference of approximately 20880.4039 from the actual values, on average.\n",
    "The negative R-squared value of -0.0446 is unusual and suggests that the model is not performing well for solar radiation. Negative R-squared values indicate that the model is worse than a simple mean-based model. In this case, it might be worth investigating the model's performance and considering alternative approaches.\n",
    "\n",
    "\n",
    "In summary, while the models for air temperature and wind speed in Miami Beach seem to perform well based on the R-squared values and low MSE, the model for solar radiation appears to be problematic, as indicated by the negative R-squared value. Further analysis and possibly a different modeling approach may be needed for the solar radiation prediction in this context."
   ]
  },
  {
   "cell_type": "markdown",
   "id": "42e2a586",
   "metadata": {},
   "source": [
    "# Walt Disney Parks & Resorts"
   ]
  },
  {
   "cell_type": "code",
   "execution_count": 15,
   "id": "2f89b15b",
   "metadata": {},
   "outputs": [
    {
     "name": "stdout",
     "output_type": "stream",
     "text": [
      "Minimum Temperature: 11.0\n",
      "Maximum Temperature: 35.69381081081081\n",
      "Mean Temperature: 24.203469494198476\n",
      "Standard Deviation: 3.862781636672476\n"
     ]
    },
    {
     "data": {
      "image/png": "[encoded data removed]",
      "text/plain": [
       "<Figure size 432x288 with 1 Axes>"
      ]
     },
     "metadata": {
      "needs_background": "light"
     },
     "output_type": "display_data"
    }
   ],
   "source": [
    "# Basic Statistics for air temperature at Walt Disney Parks & Resorts\n",
    "min_temp_disney = disney_df['Walt Disney Parks & Resorts_air_temp_set_1'].min()\n",
    "max_temp_disney = disney_df['Walt Disney Parks & Resorts_air_temp_set_1'].max()\n",
    "mean_temp_disney = disney_df['Walt Disney Parks & Resorts_air_temp_set_1'].mean()\n",
    "std_temp_disney = disney_df['Walt Disney Parks & Resorts_air_temp_set_1'].std()\n",
    "\n",
    "print(f\"Minimum Temperature: {min_temp_disney}\")\n",
    "print(f\"Maximum Temperature: {max_temp_disney}\")\n",
    "print(f\"Mean Temperature: {mean_temp_disney}\")\n",
    "print(f\"Standard Deviation: {std_temp_disney}\")\n",
    "\n",
    "# Plotting the distribution\n",
    "plt.hist(disney_df['Walt Disney Parks & Resorts_air_temp_set_1'], bins=30, edgecolor='black')\n",
    "plt.title('Distribution of Air Temperature at Walt Disney Parks & Resorts')\n",
    "plt.xlabel('Temperature')\n",
    "plt.ylabel('Frequency')\n",
    "plt.show()\n"
   ]
  },
  {
   "cell_type": "code",
   "execution_count": 16,
   "id": "ccda0897",
   "metadata": {},
   "outputs": [
    {
     "name": "stdout",
     "output_type": "stream",
     "text": [
      "Minimum Precipitation Accumulation: 53.086\n",
      "Maximum Precipitation Accumulation: 106.934\n",
      "Mean Precipitation Accumulation: 92.36673237798874\n",
      "Standard Deviation: 15.563038027378255\n"
     ]
    },
    {
     "data": {
      "image/png": "[encoded data removed]",
      "text/plain": [
       "<Figure size 432x288 with 1 Axes>"
      ]
     },
     "metadata": {
      "needs_background": "light"
     },
     "output_type": "display_data"
    }
   ],
   "source": [
    "# Basic Statistics for precipitation accumulation at Walt Disney Parks & Resorts\n",
    "min_precip_disney = disney_df['Walt Disney Parks & Resorts_precip_accum_set_1'].min()\n",
    "max_precip_disney = disney_df['Walt Disney Parks & Resorts_precip_accum_set_1'].max()\n",
    "mean_precip_disney = disney_df['Walt Disney Parks & Resorts_precip_accum_set_1'].mean()\n",
    "std_precip_disney = disney_df['Walt Disney Parks & Resorts_precip_accum_set_1'].std()\n",
    "\n",
    "print(f\"Minimum Precipitation Accumulation: {min_precip_disney}\")\n",
    "print(f\"Maximum Precipitation Accumulation: {max_precip_disney}\")\n",
    "print(f\"Mean Precipitation Accumulation: {mean_precip_disney}\")\n",
    "print(f\"Standard Deviation: {std_precip_disney}\")\n",
    "\n",
    "# Plotting the distribution\n",
    "plt.hist(disney_df['Walt Disney Parks & Resorts_precip_accum_set_1'], bins=30, edgecolor='black')\n",
    "plt.title('Distribution of Precipitation Accumulation at Walt Disney Parks & Resorts')\n",
    "plt.xlabel('Precipitation Accumulation')\n",
    "plt.ylabel('Frequency')\n",
    "plt.show()"
   ]
  },
  {
   "cell_type": "code",
   "execution_count": 8,
   "id": "42f8f6fd",
   "metadata": {},
   "outputs": [
    {
     "name": "stdout",
     "output_type": "stream",
     "text": [
      "Target Variable: Walt Disney Parks & Resorts_air_temp_set_1\n",
      "Mean Squared Error: 1.256185687529678\n",
      "R-squared: 0.9157632753395714\n",
      "--------------------------------------------------\n",
      "Target Variable: Walt Disney Parks & Resorts_wind_speed_set_1\n",
      "Mean Squared Error: 0.2119067213882335\n",
      "R-squared: 0.6959672819324398\n",
      "--------------------------------------------------\n",
      "Target Variable: Walt Disney Parks & Resorts_precip_accum_set_1\n",
      "Mean Squared Error: 15.325468280252604\n",
      "R-squared: 0.935462662578689\n",
      "--------------------------------------------------\n"
     ]
    }
   ],
   "source": [
    "# Extract features\n",
    "X_disney = disney_df.drop(columns=['Walt Disney Parks & Resorts_air_temp_set_1', 'Walt Disney Parks & Resorts_wind_speed_set_1', 'Walt Disney Parks & Resorts_precip_accum_set_1', 'Walt Disney Parks & Resorts_STATION_NUM', 'Walt Disney Parks & Resorts_STATION_ID', 'YEAR', 'MONTH', 'DAY', 'HOUR'])\n",
    "\n",
    "# Define target variables\n",
    "target_variables_disney = ['Walt Disney Parks & Resorts_air_temp_set_1', 'Walt Disney Parks & Resorts_wind_speed_set_1', 'Walt Disney Parks & Resorts_precip_accum_set_1']\n",
    "\n",
    "# Split the data into training and testing sets\n",
    "X_train_disney, X_test_disney = train_test_split(X_disney, test_size=0.2, random_state=42)\n",
    "\n",
    "# Scale the features\n",
    "scaler_disney = StandardScaler()\n",
    "X_train_scaled_disney = scaler_disney.fit_transform(X_train_disney)\n",
    "X_test_scaled_disney = scaler_disney.transform(X_test_disney)\n",
    "\n",
    "for target_variable_disney in target_variables_disney:\n",
    "    # Extract target variable\n",
    "    y_disney = disney_df[target_variable_disney]\n",
    "\n",
    "    # Split the target variable into training and testing sets\n",
    "    y_train_disney, y_test_disney = train_test_split(y_disney, test_size=0.2, random_state=42)\n",
    "\n",
    "    # Create and train the SVR model\n",
    "    svr_model_disney = SVR(kernel='rbf')  # rbf to capture non-linear patterns\n",
    "    svr_model_disney.fit(X_train_scaled_disney, y_train_disney)\n",
    "\n",
    "    # Make predictions on the test set\n",
    "    y_pred_disney = svr_model_disney.predict(X_test_scaled_disney)\n",
    "\n",
    "    # Evaluate the model\n",
    "    mse_disney = mean_squared_error(y_test_disney, y_pred_disney)\n",
    "    r2_disney = r2_score(y_test_disney, y_pred_disney)\n",
    "\n",
    "    print(f'Target Variable: {target_variable_disney}')\n",
    "    print(f'Mean Squared Error: {mse_disney}')\n",
    "    print(f'R-squared: {r2_disney}')\n",
    "    print('-' * 50)\n"
   ]
  },
  {
   "cell_type": "raw",
   "id": "c26b3c42",
   "metadata": {},
   "source": [
    "Walt Disney Parks & Resorts_air_temp_set_1:\n",
    "Mean Squared Error (MSE): 1.2562\n",
    "R-squared: 0.9158\n",
    "Interpretation:\n",
    "The MSE of 1.2562 for air temperature suggests that, on average, the model's predictions have a squared difference of approximately 1.2562 from the actual air temperature values.\n",
    "The high R-squared value of 0.9158 indicates that the model explains about 91.58% of the variance in air temperature, suggesting a very good fit of the model to the data.\n",
    "\n",
    "Walt Disney Parks & Resorts_wind_speed_set_1:\n",
    "Mean Squared Error (MSE): 0.2119\n",
    "R-squared: 0.6960\n",
    "Interpretation:\n",
    "The MSE of 0.2119 for wind speed implies that, on average, the model's predictions have a squared difference of approximately 0.2119 from the actual wind speed values.\n",
    "The R-squared value of 0.6960 indicates that the model explains about 69.60% of the variance in wind speed, suggesting a reasonably good fit of the model to the data.\n",
    "\n",
    "Walt Disney Parks & Resorts_precip_accum_set_1:\n",
    "Mean Squared Error (MSE): 15.3255\n",
    "R-squared: 0.9355\n",
    "Interpretation:\n",
    "The MSE of 15.3255 for precipitation accumulation suggests that, on average, the model's predictions have a squared difference of approximately 15.3255 from the actual precipitation accumulation values.\n",
    "The very high R-squared value of 0.9355 indicates that the model explains about 93.55% of the variance in precipitation accumulation, suggesting an excellent fit of the model to the data.\n",
    "\n",
    "\n",
    "In summary, the models for air temperature and precipitation accumulation at Walt Disney Parks & Resorts appear to perform very well, with high R-squared values indicating a strong explanatory power. The model for wind speed also performs reasonably well with a good R-squared value, though not as high as the other two variables. Overall, these results suggest that the models are effective in predicting weather-related variables for Walt Disney Parks & Resorts."
   ]
  }
 ],
 "metadata": {
  "kernelspec": {
   "display_name": "Python 3",
   "language": "python",
   "name": "python3"
  },
  "language_info": {
   "codemirror_mode": {
    "name": "ipython",
    "version": 3
   },
   "file_extension": ".py",
   "mimetype": "text/x-python",
   "name": "python",
   "nbconvert_exporter": "python",
   "pygments_lexer": "ipython3",
   "version": "3.8.8"
  }
 },
 "nbformat": 4,
 "nbformat_minor": 5
}
